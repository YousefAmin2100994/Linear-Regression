{
 "cells": [
  {
   "cell_type": "markdown",
   "id": "c5d1c3e6",
   "metadata": {},
   "source": [
    "# *Importing Modules*"
   ]
  },
  {
   "cell_type": "code",
   "execution_count": 4,
   "id": "511c5996",
   "metadata": {},
   "outputs": [],
   "source": [
    "import numpy as np\n",
    "import pandas as pd\n",
    "import seaborn as sns\n",
    "from matplotlib import pyplot as plt \n",
    "from sklearn.model_selection import GridSearchCV\n",
    "from sklearn.preprocessing import PolynomialFeatures\n",
    "from sklearn.linear_model import LinearRegression\n",
    "from sklearn.model_selection import train_test_split\n",
    "from sklearn.metrics import mean_absolute_error, mean_squared_error"
   ]
  },
  {
   "cell_type": "markdown",
   "id": "28296898",
   "metadata": {},
   "source": [
    "# *Get X and Y*"
   ]
  },
  {
   "cell_type": "code",
   "execution_count": 3,
   "id": "2d395299",
   "metadata": {},
   "outputs": [
    {
     "data": {
      "text/plain": [
       "array([[ 0.29288102],\n",
       "       [ 1.2911362 ],\n",
       "       [ 0.61658026],\n",
       "       [ 0.2692991 ],\n",
       "       [-0.4580712 ],\n",
       "       [ 0.87536468],\n",
       "       [-0.37447673],\n",
       "       [ 2.350638  ],\n",
       "       [ 2.78197656],\n",
       "       [-0.69935089],\n",
       "       [ 1.75035023],\n",
       "       [ 0.17336952],\n",
       "       [ 0.40826737],\n",
       "       [ 2.55357983],\n",
       "       [-2.57378365],\n",
       "       [-2.4772242 ],\n",
       "       [-2.87868962],\n",
       "       [ 1.99571907],\n",
       "       [ 1.66894051],\n",
       "       [ 2.22007289],\n",
       "       [ 2.87171005],\n",
       "       [ 1.79495139],\n",
       "       [-0.23112383],\n",
       "       [ 1.68317506],\n",
       "       [-2.29035344],\n",
       "       [ 0.83952613],\n",
       "       [-2.13988028],\n",
       "       [ 2.6680135 ],\n",
       "       [ 0.13108993],\n",
       "       [-0.51202836],\n",
       "       [-1.41266633],\n",
       "       [ 1.64540214],\n",
       "       [-0.26309801],\n",
       "       [ 0.41060369],\n",
       "       [-2.8872612 ],\n",
       "       [ 0.70581298],\n",
       "       [ 0.67257434],\n",
       "       [ 0.70160398],\n",
       "       [ 2.66248847],\n",
       "       [ 1.09092179],\n",
       "       [-0.8429526 ],\n",
       "       [-0.37780828],\n",
       "       [ 1.18578718],\n",
       "       [-2.63864717],\n",
       "       [ 1.00060029],\n",
       "       [ 1.02382722],\n",
       "       [-1.73770463],\n",
       "       [-2.22644221],\n",
       "       [-1.10742989],\n",
       "       [-0.81773537],\n",
       "       [ 0.42118062],\n",
       "       [-0.36839092],\n",
       "       [ 2.93024303],\n",
       "       [-2.38773114],\n",
       "       [-1.74673946],\n",
       "       [-2.03214289],\n",
       "       [ 0.91864995],\n",
       "       [-1.48025038],\n",
       "       [-0.20213536],\n",
       "       [-1.53344645],\n",
       "       [-2.0461825 ],\n",
       "       [-2.33774915],\n",
       "       [ 0.93797754],\n",
       "       [-2.17090229],\n",
       "       [-1.82050583],\n",
       "       [-0.78764898],\n",
       "       [ 1.92595938],\n",
       "       [-2.41739235],\n",
       "       [ 2.02766944],\n",
       "       [-2.42340955],\n",
       "       [ 2.85875679],\n",
       "       [-0.18809279],\n",
       "       [ 2.86056653],\n",
       "       [ 0.62907312],\n",
       "       [ 1.43558148],\n",
       "       [-2.76487325],\n",
       "       [-1.30315822],\n",
       "       [-2.27882063],\n",
       "       [-1.22315881],\n",
       "       [-2.28763369],\n",
       "       [-1.09210092],\n",
       "       [-0.51442203],\n",
       "       [-2.61511502],\n",
       "       [ 1.15483272],\n",
       "       [ 0.39960873],\n",
       "       [-1.40766305],\n",
       "       [ 0.13948832],\n",
       "       [-2.43635694],\n",
       "       [ 0.45567897],\n",
       "       [ 2.57577719],\n",
       "       [-1.08858629],\n",
       "       [ 1.00446228],\n",
       "       [-2.20921283],\n",
       "       [ 1.29796322],\n",
       "       [-1.26356344],\n",
       "       [-1.90085183],\n",
       "       [ 0.51907761],\n",
       "       [-2.87935472],\n",
       "       [ 1.97364018],\n",
       "       [-2.97182714]])"
      ]
     },
     "execution_count": 3,
     "metadata": {},
     "output_type": "execute_result"
    }
   ],
   "source": [
    "np.random.seed(0)\n",
    "x = 6 * np.random.rand(100, 1) - 3\n",
    "y = 0.5 * x**2 + x + 2 + np.random.randn(100, 1)\n",
    "x"
   ]
  },
  {
   "cell_type": "markdown",
   "id": "feaa58b3",
   "metadata": {},
   "source": [
    "# *Splitting Data*"
   ]
  },
  {
   "cell_type": "code",
   "execution_count": 5,
   "id": "93953ad1",
   "metadata": {},
   "outputs": [
    {
     "data": {
      "text/plain": [
       "array([[-2.03214289],\n",
       "       [ 0.45567897],\n",
       "       [-2.13988028],\n",
       "       [ 1.18578718],\n",
       "       [-2.42340955],\n",
       "       [-2.4772242 ],\n",
       "       [-0.8429526 ],\n",
       "       [ 0.51907761],\n",
       "       [-0.69935089],\n",
       "       [ 2.86056653],\n",
       "       [ 0.17336952],\n",
       "       [-2.22644221],\n",
       "       [-1.40766305],\n",
       "       [ 0.13108993],\n",
       "       [ 1.29796322],\n",
       "       [ 0.87536468],\n",
       "       [ 1.92595938],\n",
       "       [-0.78764898],\n",
       "       [ 0.70581298],\n",
       "       [-2.87868962],\n",
       "       [-0.81773537],\n",
       "       [-2.8872612 ],\n",
       "       [ 2.350638  ],\n",
       "       [-1.90085183],\n",
       "       [ 2.6680135 ],\n",
       "       [ 2.22007289],\n",
       "       [-0.51442203],\n",
       "       [ 0.83952613],\n",
       "       [ 0.93797754],\n",
       "       [ 2.55357983],\n",
       "       [-2.29035344],\n",
       "       [ 0.2692991 ],\n",
       "       [ 1.99571907],\n",
       "       [ 2.66248847],\n",
       "       [ 2.78197656],\n",
       "       [-1.22315881],\n",
       "       [-0.37447673],\n",
       "       [-1.82050583],\n",
       "       [ 0.67257434],\n",
       "       [ 2.57577719],\n",
       "       [ 0.91864995],\n",
       "       [-2.97182714],\n",
       "       [-1.74673946],\n",
       "       [-2.63864717],\n",
       "       [ 0.42118062],\n",
       "       [-2.41739235],\n",
       "       [-1.73770463],\n",
       "       [ 2.02766944],\n",
       "       [-2.33774915],\n",
       "       [-2.87935472],\n",
       "       [-2.28763369],\n",
       "       [-0.37780828],\n",
       "       [-0.20213536],\n",
       "       [-1.10742989],\n",
       "       [ 1.97364018],\n",
       "       [-1.48025038],\n",
       "       [-2.76487325],\n",
       "       [-0.26309801],\n",
       "       [-1.26356344],\n",
       "       [-1.53344645],\n",
       "       [-2.17090229],\n",
       "       [ 0.39960873],\n",
       "       [ 0.70160398],\n",
       "       [-0.51202836],\n",
       "       [ 1.2911362 ],\n",
       "       [ 2.93024303],\n",
       "       [ 1.79495139],\n",
       "       [ 0.61658026],\n",
       "       [ 1.68317506],\n",
       "       [-2.43635694],\n",
       "       [ 1.00446228],\n",
       "       [ 1.43558148],\n",
       "       [ 0.13948832],\n",
       "       [-2.61511502],\n",
       "       [ 2.87171005],\n",
       "       [-2.0461825 ],\n",
       "       [-0.18809279],\n",
       "       [-2.57378365],\n",
       "       [-2.20921283],\n",
       "       [-0.36839092]])"
      ]
     },
     "execution_count": 5,
     "metadata": {},
     "output_type": "execute_result"
    }
   ],
   "source": [
    "x_train, x_test, y_train, y_test = train_test_split(x, y, test_size=0.2, random_state=42)\n",
    "x_train"
   ]
  },
  {
   "cell_type": "markdown",
   "id": "d4c589e2",
   "metadata": {},
   "source": [
    "# *Get Best Parameters of Linear Regression*"
   ]
  },
  {
   "cell_type": "code",
   "execution_count": 6,
   "id": "5433ea8b",
   "metadata": {},
   "outputs": [
    {
     "name": "stdout",
     "output_type": "stream",
     "text": [
      "Best Parameters: {'copy_X': True, 'fit_intercept': True, 'positive': True}\n",
      "Best Score: 0.17599598208174275\n"
     ]
    }
   ],
   "source": [
    "param_grid = {\n",
    "    'fit_intercept': [True, False],\n",
    "    'copy_X': [True, False],\n",
    "    'positive': [True, False],\n",
    "}\n",
    " \n",
    "model = LinearRegression()\n",
    "\n",
    "grid_search = GridSearchCV(model, param_grid, cv=5)\n",
    "grid_search.fit(x_train, y_train)\n",
    "print(\"Best Parameters:\", grid_search.best_params_)\n",
    "print(\"Best Score:\", grid_search.best_score_)"
   ]
  },
  {
   "cell_type": "code",
   "execution_count": 7,
   "id": "d1bbbb18",
   "metadata": {},
   "outputs": [
    {
     "data": {
      "text/html": [
       "<style>#sk-container-id-1 {color: black;}#sk-container-id-1 pre{padding: 0;}#sk-container-id-1 div.sk-toggleable {background-color: white;}#sk-container-id-1 label.sk-toggleable__label {cursor: pointer;display: block;width: 100%;margin-bottom: 0;padding: 0.3em;box-sizing: border-box;text-align: center;}#sk-container-id-1 label.sk-toggleable__label-arrow:before {content: \"▸\";float: left;margin-right: 0.25em;color: #696969;}#sk-container-id-1 label.sk-toggleable__label-arrow:hover:before {color: black;}#sk-container-id-1 div.sk-estimator:hover label.sk-toggleable__label-arrow:before {color: black;}#sk-container-id-1 div.sk-toggleable__content {max-height: 0;max-width: 0;overflow: hidden;text-align: left;background-color: #f0f8ff;}#sk-container-id-1 div.sk-toggleable__content pre {margin: 0.2em;color: black;border-radius: 0.25em;background-color: #f0f8ff;}#sk-container-id-1 input.sk-toggleable__control:checked~div.sk-toggleable__content {max-height: 200px;max-width: 100%;overflow: auto;}#sk-container-id-1 input.sk-toggleable__control:checked~label.sk-toggleable__label-arrow:before {content: \"▾\";}#sk-container-id-1 div.sk-estimator input.sk-toggleable__control:checked~label.sk-toggleable__label {background-color: #d4ebff;}#sk-container-id-1 div.sk-label input.sk-toggleable__control:checked~label.sk-toggleable__label {background-color: #d4ebff;}#sk-container-id-1 input.sk-hidden--visually {border: 0;clip: rect(1px 1px 1px 1px);clip: rect(1px, 1px, 1px, 1px);height: 1px;margin: -1px;overflow: hidden;padding: 0;position: absolute;width: 1px;}#sk-container-id-1 div.sk-estimator {font-family: monospace;background-color: #f0f8ff;border: 1px dotted black;border-radius: 0.25em;box-sizing: border-box;margin-bottom: 0.5em;}#sk-container-id-1 div.sk-estimator:hover {background-color: #d4ebff;}#sk-container-id-1 div.sk-parallel-item::after {content: \"\";width: 100%;border-bottom: 1px solid gray;flex-grow: 1;}#sk-container-id-1 div.sk-label:hover label.sk-toggleable__label {background-color: #d4ebff;}#sk-container-id-1 div.sk-serial::before {content: \"\";position: absolute;border-left: 1px solid gray;box-sizing: border-box;top: 0;bottom: 0;left: 50%;z-index: 0;}#sk-container-id-1 div.sk-serial {display: flex;flex-direction: column;align-items: center;background-color: white;padding-right: 0.2em;padding-left: 0.2em;position: relative;}#sk-container-id-1 div.sk-item {position: relative;z-index: 1;}#sk-container-id-1 div.sk-parallel {display: flex;align-items: stretch;justify-content: center;background-color: white;position: relative;}#sk-container-id-1 div.sk-item::before, #sk-container-id-1 div.sk-parallel-item::before {content: \"\";position: absolute;border-left: 1px solid gray;box-sizing: border-box;top: 0;bottom: 0;left: 50%;z-index: -1;}#sk-container-id-1 div.sk-parallel-item {display: flex;flex-direction: column;z-index: 1;position: relative;background-color: white;}#sk-container-id-1 div.sk-parallel-item:first-child::after {align-self: flex-end;width: 50%;}#sk-container-id-1 div.sk-parallel-item:last-child::after {align-self: flex-start;width: 50%;}#sk-container-id-1 div.sk-parallel-item:only-child::after {width: 0;}#sk-container-id-1 div.sk-dashed-wrapped {border: 1px dashed gray;margin: 0 0.4em 0.5em 0.4em;box-sizing: border-box;padding-bottom: 0.4em;background-color: white;}#sk-container-id-1 div.sk-label label {font-family: monospace;font-weight: bold;display: inline-block;line-height: 1.2em;}#sk-container-id-1 div.sk-label-container {text-align: center;}#sk-container-id-1 div.sk-container {/* jupyter's `normalize.less` sets `[hidden] { display: none; }` but bootstrap.min.css set `[hidden] { display: none !important; }` so we also need the `!important` here to be able to override the default hidden behavior on the sphinx rendered scikit-learn.org. See: https://github.com/scikit-learn/scikit-learn/issues/21755 */display: inline-block !important;position: relative;}#sk-container-id-1 div.sk-text-repr-fallback {display: none;}</style><div id=\"sk-container-id-1\" class=\"sk-top-container\"><div class=\"sk-text-repr-fallback\"><pre>LinearRegression(positive=True)</pre><b>In a Jupyter environment, please rerun this cell to show the HTML representation or trust the notebook. <br />On GitHub, the HTML representation is unable to render, please try loading this page with nbviewer.org.</b></div><div class=\"sk-container\" hidden><div class=\"sk-item\"><div class=\"sk-estimator sk-toggleable\"><input class=\"sk-toggleable__control sk-hidden--visually\" id=\"sk-estimator-id-1\" type=\"checkbox\" checked><label for=\"sk-estimator-id-1\" class=\"sk-toggleable__label sk-toggleable__label-arrow\">LinearRegression</label><div class=\"sk-toggleable__content\"><pre>LinearRegression(positive=True)</pre></div></div></div></div></div>"
      ],
      "text/plain": [
       "LinearRegression(positive=True)"
      ]
     },
     "execution_count": 7,
     "metadata": {},
     "output_type": "execute_result"
    }
   ],
   "source": [
    "model=LinearRegression(**grid_search.best_params_)\n",
    "model.fit(x_train,y_train)"
   ]
  },
  {
   "cell_type": "code",
   "execution_count": 8,
   "id": "84f55337",
   "metadata": {},
   "outputs": [
    {
     "data": {
      "text/plain": [
       "0.3935767096418983"
      ]
     },
     "execution_count": 8,
     "metadata": {},
     "output_type": "execute_result"
    }
   ],
   "source": [
    "model.score(x_test,y_test) #Very Very Bad"
   ]
  },
  {
   "cell_type": "markdown",
   "id": "55d8de2c",
   "metadata": {},
   "source": [
    "# *How To Know That model isnot Linear*"
   ]
  },
  {
   "cell_type": "code",
   "execution_count": 9,
   "id": "c2034576",
   "metadata": {},
   "outputs": [
    {
     "name": "stderr",
     "output_type": "stream",
     "text": [
      "C:\\Users\\Lenovo\\AppData\\Local\\Temp\\ipykernel_19224\\3381072787.py:1: UserWarning: \n",
      "\n",
      "`distplot` is a deprecated function and will be removed in seaborn v0.14.0.\n",
      "\n",
      "Please adapt your code to use either `displot` (a figure-level function with\n",
      "similar flexibility) or `histplot` (an axes-level function for histograms).\n",
      "\n",
      "For a guide to updating your code to use the new functions, please see\n",
      "https://gist.github.com/mwaskom/de44147ed2974457ad6372750bbe5751\n",
      "\n",
      "  sns.distplot(y_test-model.predict(x_test))\n"
     ]
    },
    {
     "data": {
      "text/plain": [
       "Text(0.5, 1.0, 'Resuidal Error Density')"
      ]
     },
     "execution_count": 9,
     "metadata": {},
     "output_type": "execute_result"
    },
    {
     "data": {
      "image/png": "[encoded data removed]",
      "text/plain": [
       "<Figure size 640x480 with 1 Axes>"
      ]
     },
     "metadata": {},
     "output_type": "display_data"
    }
   ],
   "source": [
    "sns.distplot(y_test-model.predict(x_test))\n",
    "plt.title(\"Resuidal Error Density\") #high range about zero :)"
   ]
  },
  {
   "cell_type": "markdown",
   "id": "c40f8bdc",
   "metadata": {},
   "source": [
    "# *Get Best Parameters of Polynomial Regression*"
   ]
  },
  {
   "cell_type": "code",
   "execution_count": 14,
   "id": "fe8fc444",
   "metadata": {},
   "outputs": [
    {
     "name": "stdout",
     "output_type": "stream",
     "text": [
      "Best polynomial degree: 2\n"
     ]
    }
   ],
   "source": [
    "from sklearn.pipeline import make_pipeline\n",
    "# Define a parameter grid\n",
    "param_grid = {'polynomialfeatures__degree': [1, 2, 3, 4, 5, 6]}\n",
    "\n",
    "# Create a pipeline with PolynomialFeatures and LinearRegression\n",
    "pipeline = make_pipeline(PolynomialFeatures(), LinearRegression())\n",
    "\n",
    "# Instantiate the GridSearchCV object\n",
    "grid_search = GridSearchCV(pipeline, param_grid, cv=5, scoring='neg_mean_squared_error')\n",
    "\n",
    "# Fit the GridSearchCV object to your training data\n",
    "grid_search.fit(x_train, y_train)\n",
    "\n",
    "# Get the best parameter\n",
    "best_degree = grid_search.best_params_['polynomialfeatures__degree']\n",
    "print(\"Best polynomial degree:\", best_degree)"
   ]
  },
  {
   "cell_type": "markdown",
   "id": "ed722314",
   "metadata": {},
   "source": [
    "# *Polynomial Model*"
   ]
  },
  {
   "cell_type": "code",
   "execution_count": 17,
   "id": "e1c47d11",
   "metadata": {},
   "outputs": [
    {
     "data": {
      "text/html": [
       "<style>#sk-container-id-2 {color: black;}#sk-container-id-2 pre{padding: 0;}#sk-container-id-2 div.sk-toggleable {background-color: white;}#sk-container-id-2 label.sk-toggleable__label {cursor: pointer;display: block;width: 100%;margin-bottom: 0;padding: 0.3em;box-sizing: border-box;text-align: center;}#sk-container-id-2 label.sk-toggleable__label-arrow:before {content: \"▸\";float: left;margin-right: 0.25em;color: #696969;}#sk-container-id-2 label.sk-toggleable__label-arrow:hover:before {color: black;}#sk-container-id-2 div.sk-estimator:hover label.sk-toggleable__label-arrow:before {color: black;}#sk-container-id-2 div.sk-toggleable__content {max-height: 0;max-width: 0;overflow: hidden;text-align: left;background-color: #f0f8ff;}#sk-container-id-2 div.sk-toggleable__content pre {margin: 0.2em;color: black;border-radius: 0.25em;background-color: #f0f8ff;}#sk-container-id-2 input.sk-toggleable__control:checked~div.sk-toggleable__content {max-height: 200px;max-width: 100%;overflow: auto;}#sk-container-id-2 input.sk-toggleable__control:checked~label.sk-toggleable__label-arrow:before {content: \"▾\";}#sk-container-id-2 div.sk-estimator input.sk-toggleable__control:checked~label.sk-toggleable__label {background-color: #d4ebff;}#sk-container-id-2 div.sk-label input.sk-toggleable__control:checked~label.sk-toggleable__label {background-color: #d4ebff;}#sk-container-id-2 input.sk-hidden--visually {border: 0;clip: rect(1px 1px 1px 1px);clip: rect(1px, 1px, 1px, 1px);height: 1px;margin: -1px;overflow: hidden;padding: 0;position: absolute;width: 1px;}#sk-container-id-2 div.sk-estimator {font-family: monospace;background-color: #f0f8ff;border: 1px dotted black;border-radius: 0.25em;box-sizing: border-box;margin-bottom: 0.5em;}#sk-container-id-2 div.sk-estimator:hover {background-color: #d4ebff;}#sk-container-id-2 div.sk-parallel-item::after {content: \"\";width: 100%;border-bottom: 1px solid gray;flex-grow: 1;}#sk-container-id-2 div.sk-label:hover label.sk-toggleable__label {background-color: #d4ebff;}#sk-container-id-2 div.sk-serial::before {content: \"\";position: absolute;border-left: 1px solid gray;box-sizing: border-box;top: 0;bottom: 0;left: 50%;z-index: 0;}#sk-container-id-2 div.sk-serial {display: flex;flex-direction: column;align-items: center;background-color: white;padding-right: 0.2em;padding-left: 0.2em;position: relative;}#sk-container-id-2 div.sk-item {position: relative;z-index: 1;}#sk-container-id-2 div.sk-parallel {display: flex;align-items: stretch;justify-content: center;background-color: white;position: relative;}#sk-container-id-2 div.sk-item::before, #sk-container-id-2 div.sk-parallel-item::before {content: \"\";position: absolute;border-left: 1px solid gray;box-sizing: border-box;top: 0;bottom: 0;left: 50%;z-index: -1;}#sk-container-id-2 div.sk-parallel-item {display: flex;flex-direction: column;z-index: 1;position: relative;background-color: white;}#sk-container-id-2 div.sk-parallel-item:first-child::after {align-self: flex-end;width: 50%;}#sk-container-id-2 div.sk-parallel-item:last-child::after {align-self: flex-start;width: 50%;}#sk-container-id-2 div.sk-parallel-item:only-child::after {width: 0;}#sk-container-id-2 div.sk-dashed-wrapped {border: 1px dashed gray;margin: 0 0.4em 0.5em 0.4em;box-sizing: border-box;padding-bottom: 0.4em;background-color: white;}#sk-container-id-2 div.sk-label label {font-family: monospace;font-weight: bold;display: inline-block;line-height: 1.2em;}#sk-container-id-2 div.sk-label-container {text-align: center;}#sk-container-id-2 div.sk-container {/* jupyter's `normalize.less` sets `[hidden] { display: none; }` but bootstrap.min.css set `[hidden] { display: none !important; }` so we also need the `!important` here to be able to override the default hidden behavior on the sphinx rendered scikit-learn.org. See: https://github.com/scikit-learn/scikit-learn/issues/21755 */display: inline-block !important;position: relative;}#sk-container-id-2 div.sk-text-repr-fallback {display: none;}</style><div id=\"sk-container-id-2\" class=\"sk-top-container\"><div class=\"sk-text-repr-fallback\"><pre>LinearRegression()</pre><b>In a Jupyter environment, please rerun this cell to show the HTML representation or trust the notebook. <br />On GitHub, the HTML representation is unable to render, please try loading this page with nbviewer.org.</b></div><div class=\"sk-container\" hidden><div class=\"sk-item\"><div class=\"sk-estimator sk-toggleable\"><input class=\"sk-toggleable__control sk-hidden--visually\" id=\"sk-estimator-id-2\" type=\"checkbox\" checked><label for=\"sk-estimator-id-2\" class=\"sk-toggleable__label sk-toggleable__label-arrow\">LinearRegression</label><div class=\"sk-toggleable__content\"><pre>LinearRegression()</pre></div></div></div></div></div>"
      ],
      "text/plain": [
       "LinearRegression()"
      ]
     },
     "execution_count": 17,
     "metadata": {},
     "output_type": "execute_result"
    }
   ],
   "source": [
    "# Create polynomial features\n",
    "poly_degree = 2\n",
    "poly = PolynomialFeatures(degree=poly_degree)\n",
    "x_poly = poly.fit_transform(x_train)\n",
    "\n",
    "# Create and train the polynomial regression model\n",
    "model = LinearRegression()\n",
    "model.fit(x_poly, y_train)"
   ]
  },
  {
   "cell_type": "code",
   "execution_count": 18,
   "id": "ce726613",
   "metadata": {},
   "outputs": [
    {
     "data": {
      "text/plain": [
       "0.8066503441636745"
      ]
     },
     "execution_count": 18,
     "metadata": {},
     "output_type": "execute_result"
    }
   ],
   "source": [
    "model.score(x_poly,y_train)"
   ]
  },
  {
   "cell_type": "code",
   "execution_count": 19,
   "id": "48c2f7bd",
   "metadata": {},
   "outputs": [
    {
     "data": {
      "text/plain": [
       "0.7506782895695159"
      ]
     },
     "execution_count": 19,
     "metadata": {},
     "output_type": "execute_result"
    }
   ],
   "source": [
    "x_test_poly=poly.fit_transform(x_test)\n",
    "model.score(x_test_poly,y_test)"
   ]
  },
  {
   "cell_type": "markdown",
   "id": "45616ee5",
   "metadata": {},
   "source": [
    "# *Visualization*"
   ]
  },
  {
   "cell_type": "code",
   "execution_count": 22,
   "id": "f73576f2",
   "metadata": {},
   "outputs": [
    {
     "data": {
      "image/png": "[encoded data removed]",
      "text/plain": [
       "<Figure size 640x480 with 1 Axes>"
      ]
     },
     "metadata": {},
     "output_type": "display_data"
    }
   ],
   "source": [
    "# Scatter plot of original data\n",
    "plt.scatter(x, y, label='Original')\n",
    "\n",
    "# Sort the x values\n",
    "x_sorted = np.sort(x, axis=0)\n",
    "\n",
    "# Predict y values for sorted x values\n",
    "y_pred_sorted = model.predict(poly.fit_transform(x_sorted))\n",
    "\n",
    "# Plot the predicted values\n",
    "plt.plot(x_sorted, y_pred_sorted, label='Predicted', color='red')\n",
    "\n",
    "plt.title(\"Scatter plot\")\n",
    "plt.xlabel(\"X\")\n",
    "plt.ylabel(\"Y\")\n",
    "plt.legend()\n",
    "plt.show()\n"
   ]
  },
  {
   "cell_type": "code",
   "execution_count": 23,
   "id": "5fa45e50",
   "metadata": {},
   "outputs": [
    {
     "name": "stderr",
     "output_type": "stream",
     "text": [
      "C:\\Users\\Lenovo\\AppData\\Local\\Temp\\ipykernel_19224\\4141219848.py:1: UserWarning: \n",
      "\n",
      "`distplot` is a deprecated function and will be removed in seaborn v0.14.0.\n",
      "\n",
      "Please adapt your code to use either `displot` (a figure-level function with\n",
      "similar flexibility) or `histplot` (an axes-level function for histograms).\n",
      "\n",
      "For a guide to updating your code to use the new functions, please see\n",
      "https://gist.github.com/mwaskom/de44147ed2974457ad6372750bbe5751\n",
      "\n",
      "  sns.distplot(y_test-model.predict(x_test_poly))\n"
     ]
    },
    {
     "data": {
      "text/plain": [
       "Text(0.5, 1.0, 'Resuidal Error Density')"
      ]
     },
     "execution_count": 23,
     "metadata": {},
     "output_type": "execute_result"
    },
    {
     "data": {
      "image/png": "[encoded data removed]",
      "text/plain": [
       "<Figure size 640x480 with 1 Axes>"
      ]
     },
     "metadata": {},
     "output_type": "display_data"
    }
   ],
   "source": [
    "sns.distplot(y_test-model.predict(x_test_poly))\n",
    "plt.title(\"Resuidal Error Density\") #the model minimize the range"
   ]
  },
  {
   "cell_type": "code",
   "execution_count": null,
   "id": "ef3361a9",
   "metadata": {},
   "outputs": [],
   "source": []
  }
 ],
 "metadata": {
  "kernelspec": {
   "display_name": "Python 3 (ipykernel)",
   "language": "python",
   "name": "python3"
  },
  "language_info": {
   "codemirror_mode": {
    "name": "ipython",
    "version": 3
   },
   "file_extension": ".py",
   "mimetype": "text/x-python",
   "name": "python",
   "nbconvert_exporter": "python",
   "pygments_lexer": "ipython3",
   "version": "3.11.5"
  }
 },
 "nbformat": 4,
 "nbformat_minor": 5
}
